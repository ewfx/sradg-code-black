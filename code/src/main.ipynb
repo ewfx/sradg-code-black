{
 "cells": [
  {
   "cell_type": "markdown",
   "metadata": {},
   "source": [
    "# Main"
   ]
  },
  {
   "cell_type": "code",
   "execution_count": 1,
   "metadata": {},
   "outputs": [
    {
     "name": "stdout",
     "output_type": "stream",
     "text": [
      "1. Answer a wide variety of questions: I can provide information, explanations, and suggestions on a broad range of topics, from science and technology to literature, history, mathematics, philosophy, and more.\n",
      "\n",
      "2. Write text: I can generate written content for various purposes, such as writing articles, essays, product descriptions, social media posts, or even poetry.\n",
      "\n",
      "3. Solve problems: I can help solve mathematical problems, provide logical reasoning, and offer step-by-step explanations to help you understand the solutions better.\n",
      "\n",
      "4. Translate text: I can translate text from one language to another with reasonable accuracy, helping you communicate more effectively across linguistic barriers.\n",
      "\n",
      "5. Learn new things: By being exposed to new information and having conversations with users, I can learn new facts, concepts, and ideas over time.\n",
      "\n",
      "6. Generate ideas: I can help brainstorm creative solutions, come up with unique ideas for various projects or tasks, and provide inspiration when needed.\n",
      "\n",
      "7. Offer advice and recommendations: Based on the information you provide, I can offer advice and suggestions tailored to your specific needs and circumstances.\n",
      "\n",
      "8. Improve language skills: By engaging in conversations with me, users can practice their writing and speaking skills, get feedback on their grammar, spelling, and punctuation, and learn new vocabulary.\n",
      "\n",
      "9. Keep track of events and news: I can provide updates on current events, world news, sports, entertainment, and technology trends to help you stay informed.\n",
      "\n",
      "10. Create schedules and reminders: I can help users manage their time more effectively by creating personalized schedules and setting reminders for important tasks and deadlines.\n"
     ]
    }
   ],
   "source": [
    "import ollama\n",
    "\n",
    "response = ollama.chat(model='mistral', messages=[{\"role\": \"user\", \"content\": \"Explain what you can do.\"}])\n",
    "print(response['message']['content'])"
   ]
  },
  {
   "cell_type": "code",
   "execution_count": null,
   "metadata": {},
   "outputs": [],
   "source": [
    "from mistral_handler import query_mistral\n",
    "\n",
    "# Example dataset path (update this)\n",
    "csv_path = \"transactions.csv\"\n",
    "\n",
    "# Example real-time transaction\n",
    "real_time_data = {\n",
    "    \"transaction_id\": 456,\n",
    "    \"account_number\": \"123ABC\",\n",
    "    \"amount\": 5000,\n",
    "    \"date\": \"2025-03-22\",\n",
    "    \"description\": \"Wire transfer\"\n",
    "}\n",
    "\n",
    "# Example classification result from the ML model\n",
    "classification_result = {\n",
    "    \"record_id\": 456,\n",
    "    \"predicted_label\": \"Suspicious High Transaction\"\n",
    "}\n",
    "\n",
    "# Get insights from Mistral\n",
    "insights = query_mistral(csv_path, real_time_data, classification_result)\n",
    "\n",
    "print(\"Mistral's Response:\\n\", insights)\n"
   ]
  }
 ],
 "metadata": {
  "kernelspec": {
   "display_name": "code-black",
   "language": "python",
   "name": "python3"
  },
  "language_info": {
   "codemirror_mode": {
    "name": "ipython",
    "version": 3
   },
   "file_extension": ".py",
   "mimetype": "text/x-python",
   "name": "python",
   "nbconvert_exporter": "python",
   "pygments_lexer": "ipython3",
   "version": "3.12.9"
  }
 },
 "nbformat": 4,
 "nbformat_minor": 2
}
